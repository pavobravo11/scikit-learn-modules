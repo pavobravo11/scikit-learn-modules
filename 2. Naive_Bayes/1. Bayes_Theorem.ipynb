{
 "cells": [
  {
   "cell_type": "code",
   "execution_count": 2,
   "metadata": {},
   "outputs": [],
   "source": [
    "import numpy as np\n",
    "import pandas as pd"
   ]
  },
  {
   "cell_type": "markdown",
   "metadata": {},
   "source": [
    "Bayes Theorem States that:"
   ]
  },
  {
   "cell_type": "markdown",
   "metadata": {},
   "source": [
    "$$\n",
    "P(Y|X) = \\frac{P(Y \\cap X)}{P(X)} = \\frac{P(Y) * P(X|Y)}{P(X)}$$"
   ]
  },
  {
   "cell_type": "markdown",
   "metadata": {},
   "source": [
    "Therefore, if we get enough observations of X, we can surmise Y using Bayes"
   ]
  },
  {
   "cell_type": "code",
   "execution_count": 3,
   "metadata": {},
   "outputs": [],
   "source": [
    "golf = pd.read_excel(\"../Class_Data/golf_categories.xlsx\")"
   ]
  },
  {
   "cell_type": "code",
   "execution_count": 48,
   "metadata": {},
   "outputs": [
    {
     "data": {
      "text/html": [
       "<div>\n",
       "<style scoped>\n",
       "    .dataframe tbody tr th:only-of-type {\n",
       "        vertical-align: middle;\n",
       "    }\n",
       "\n",
       "    .dataframe tbody tr th {\n",
       "        vertical-align: top;\n",
       "    }\n",
       "\n",
       "    .dataframe thead th {\n",
       "        text-align: right;\n",
       "    }\n",
       "</style>\n",
       "<table border=\"1\" class=\"dataframe\">\n",
       "  <thead>\n",
       "    <tr style=\"text-align: right;\">\n",
       "      <th></th>\n",
       "      <th>Temperature</th>\n",
       "      <th>Humidity</th>\n",
       "      <th>Outlook</th>\n",
       "      <th>Wind</th>\n",
       "      <th>Play</th>\n",
       "    </tr>\n",
       "  </thead>\n",
       "  <tbody>\n",
       "    <tr>\n",
       "      <th>0</th>\n",
       "      <td>High</td>\n",
       "      <td>Medium</td>\n",
       "      <td>Sunny</td>\n",
       "      <td>False</td>\n",
       "      <td>No</td>\n",
       "    </tr>\n",
       "    <tr>\n",
       "      <th>1</th>\n",
       "      <td>High</td>\n",
       "      <td>High</td>\n",
       "      <td>Sunny</td>\n",
       "      <td>True</td>\n",
       "      <td>No</td>\n",
       "    </tr>\n",
       "    <tr>\n",
       "      <th>2</th>\n",
       "      <td>Low</td>\n",
       "      <td>Low</td>\n",
       "      <td>Rain</td>\n",
       "      <td>True</td>\n",
       "      <td>No</td>\n",
       "    </tr>\n",
       "    <tr>\n",
       "      <th>3</th>\n",
       "      <td>Medium</td>\n",
       "      <td>High</td>\n",
       "      <td>Sunny</td>\n",
       "      <td>False</td>\n",
       "      <td>No</td>\n",
       "    </tr>\n",
       "    <tr>\n",
       "      <th>4</th>\n",
       "      <td>Low</td>\n",
       "      <td>Medium</td>\n",
       "      <td>Rain</td>\n",
       "      <td>True</td>\n",
       "      <td>No</td>\n",
       "    </tr>\n",
       "  </tbody>\n",
       "</table>\n",
       "</div>"
      ],
      "text/plain": [
       "  Temperature Humidity Outlook   Wind Play\n",
       "0        High   Medium   Sunny  False   No\n",
       "1        High     High   Sunny   True   No\n",
       "2         Low      Low    Rain   True   No\n",
       "3      Medium     High   Sunny  False   No\n",
       "4         Low   Medium    Rain   True   No"
      ]
     },
     "execution_count": 48,
     "metadata": {},
     "output_type": "execute_result"
    }
   ],
   "source": [
    "golf.head()"
   ]
  },
  {
   "cell_type": "code",
   "execution_count": 38,
   "metadata": {},
   "outputs": [],
   "source": [
    "play_yes = len(golf[golf['Play'] == \"Yes\"])\n",
    "play_no = len(golf[golf['Play'] == \"No\"])"
   ]
  },
  {
   "cell_type": "code",
   "execution_count": 110,
   "metadata": {},
   "outputs": [],
   "source": [
    "features_dfs = {}\n",
    "features = ['Temperature', 'Humidity', 'Outlook', 'Wind']\n",
    "\n",
    "for feature in features:\n",
    "    df = golf.groupby(['Play', feature], as_index=False).count().iloc[:, :3]\n",
    "    df['Occurrences'] = df.apply(\n",
    "    lambda x: x.iloc[2]/play_yes if x['Play'] == 'Yes' else x.iloc[2]/play_no,\n",
    "    axis=1\n",
    ")\n",
    "    features_dfs[feature] = df.drop()"
   ]
  },
  {
   "cell_type": "code",
   "execution_count": null,
   "metadata": {},
   "outputs": [],
   "source": []
  },
  {
   "cell_type": "code",
   "execution_count": 111,
   "metadata": {},
   "outputs": [
    {
     "name": "stdout",
     "output_type": "stream",
     "text": [
      "Temperature\n",
      "  Play Temperature  Humidity  Occurrences\n",
      "0   No        High         2     0.400000\n",
      "1   No         Low         2     0.400000\n",
      "2   No      Medium         1     0.200000\n",
      "3  Yes        High         2     0.222222\n",
      "4  Yes         Low         4     0.444444\n",
      "5  Yes      Medium         3     0.333333 \n",
      "\n",
      "Humidity\n",
      "  Play Humidity  Temperature  Occurrences\n",
      "0   No     High            2     0.400000\n",
      "1   No      Low            1     0.200000\n",
      "2   No   Medium            2     0.400000\n",
      "3  Yes     High            2     0.222222\n",
      "4  Yes      Low            4     0.444444\n",
      "5  Yes   Medium            3     0.333333 \n",
      "\n",
      "Outlook\n",
      "  Play   Outlook  Temperature  Occurrences\n",
      "0   No      Rain            2     0.400000\n",
      "1   No     Sunny            3     0.600000\n",
      "2  Yes  Overcast            4     0.444444\n",
      "3  Yes      Rain            3     0.333333\n",
      "4  Yes     Sunny            2     0.222222 \n",
      "\n",
      "Wind\n",
      "  Play   Wind  Temperature  Occurrences\n",
      "0   No  False            2     0.400000\n",
      "1   No   True            3     0.600000\n",
      "2  Yes  False            6     0.666667\n",
      "3  Yes   True            3     0.333333 \n",
      "\n"
     ]
    }
   ],
   "source": [
    "for name, df in features_dfs.items():\n",
    "    print(name)\n",
    "    print(df, \"\\n\")"
   ]
  }
 ],
 "metadata": {
  "kernelspec": {
   "display_name": "gus",
   "language": "python",
   "name": "python3"
  },
  "language_info": {
   "codemirror_mode": {
    "name": "ipython",
    "version": 3
   },
   "file_extension": ".py",
   "mimetype": "text/x-python",
   "name": "python",
   "nbconvert_exporter": "python",
   "pygments_lexer": "ipython3",
   "version": "3.12.8"
  }
 },
 "nbformat": 4,
 "nbformat_minor": 2
}
