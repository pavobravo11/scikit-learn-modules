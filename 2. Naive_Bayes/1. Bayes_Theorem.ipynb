{
 "cells": [
  {
   "cell_type": "code",
   "execution_count": 200,
   "metadata": {},
   "outputs": [],
   "source": [
    "import numpy as np\n",
    "import pandas as pd"
   ]
  },
  {
   "cell_type": "markdown",
   "metadata": {},
   "source": [
    "Bayes Theorem States that:"
   ]
  },
  {
   "cell_type": "markdown",
   "metadata": {},
   "source": [
    "$$\n",
    "P(Y|X) = \\frac{P(Y \\cap X)}{P(X)} = \\frac{P(Y) * P(X|Y)}{P(X)}$$"
   ]
  },
  {
   "cell_type": "markdown",
   "metadata": {},
   "source": [
    "Therefore, if we get enough observations of X, we can surmise Y using Bayes"
   ]
  },
  {
   "cell_type": "code",
   "execution_count": 3,
   "metadata": {},
   "outputs": [],
   "source": [
    "golf = pd.read_excel(\"../Class_Data/golf_categories.xlsx\")"
   ]
  },
  {
   "cell_type": "code",
   "execution_count": 48,
   "metadata": {},
   "outputs": [
    {
     "data": {
      "text/html": [
       "<div>\n",
       "<style scoped>\n",
       "    .dataframe tbody tr th:only-of-type {\n",
       "        vertical-align: middle;\n",
       "    }\n",
       "\n",
       "    .dataframe tbody tr th {\n",
       "        vertical-align: top;\n",
       "    }\n",
       "\n",
       "    .dataframe thead th {\n",
       "        text-align: right;\n",
       "    }\n",
       "</style>\n",
       "<table border=\"1\" class=\"dataframe\">\n",
       "  <thead>\n",
       "    <tr style=\"text-align: right;\">\n",
       "      <th></th>\n",
       "      <th>Temperature</th>\n",
       "      <th>Humidity</th>\n",
       "      <th>Outlook</th>\n",
       "      <th>Wind</th>\n",
       "      <th>Play</th>\n",
       "    </tr>\n",
       "  </thead>\n",
       "  <tbody>\n",
       "    <tr>\n",
       "      <th>0</th>\n",
       "      <td>High</td>\n",
       "      <td>Medium</td>\n",
       "      <td>Sunny</td>\n",
       "      <td>False</td>\n",
       "      <td>No</td>\n",
       "    </tr>\n",
       "    <tr>\n",
       "      <th>1</th>\n",
       "      <td>High</td>\n",
       "      <td>High</td>\n",
       "      <td>Sunny</td>\n",
       "      <td>True</td>\n",
       "      <td>No</td>\n",
       "    </tr>\n",
       "    <tr>\n",
       "      <th>2</th>\n",
       "      <td>Low</td>\n",
       "      <td>Low</td>\n",
       "      <td>Rain</td>\n",
       "      <td>True</td>\n",
       "      <td>No</td>\n",
       "    </tr>\n",
       "    <tr>\n",
       "      <th>3</th>\n",
       "      <td>Medium</td>\n",
       "      <td>High</td>\n",
       "      <td>Sunny</td>\n",
       "      <td>False</td>\n",
       "      <td>No</td>\n",
       "    </tr>\n",
       "    <tr>\n",
       "      <th>4</th>\n",
       "      <td>Low</td>\n",
       "      <td>Medium</td>\n",
       "      <td>Rain</td>\n",
       "      <td>True</td>\n",
       "      <td>No</td>\n",
       "    </tr>\n",
       "  </tbody>\n",
       "</table>\n",
       "</div>"
      ],
      "text/plain": [
       "  Temperature Humidity Outlook   Wind Play\n",
       "0        High   Medium   Sunny  False   No\n",
       "1        High     High   Sunny   True   No\n",
       "2         Low      Low    Rain   True   No\n",
       "3      Medium     High   Sunny  False   No\n",
       "4         Low   Medium    Rain   True   No"
      ]
     },
     "execution_count": 48,
     "metadata": {},
     "output_type": "execute_result"
    }
   ],
   "source": [
    "golf.head()"
   ]
  },
  {
   "cell_type": "code",
   "execution_count": 38,
   "metadata": {},
   "outputs": [],
   "source": [
    "play_yes = len(golf[golf['Play'] == \"Yes\"])\n",
    "play_no = len(golf[golf['Play'] == \"No\"])"
   ]
  },
  {
   "cell_type": "code",
   "execution_count": 172,
   "metadata": {},
   "outputs": [],
   "source": [
    "features_dfs = {}\n",
    "features = ['Temperature', 'Humidity', 'Outlook', 'Wind']\n",
    "laplace = True\n",
    "\n",
    "for feature in features:\n",
    "    df = golf.groupby(['Play', feature], as_index=False).count().iloc[:, :3]\n",
    "    df['Occurrences'] = df.apply(\n",
    "    lambda x: x.iloc[2]/play_yes if x['Play'] == 'Yes' else x.iloc[2]/play_no,\n",
    "    axis=1\n",
    ")\n",
    "    df.drop(df.columns[2], axis=1)\n",
    "    features_dfs[feature] = df.pivot(index=df.columns[1], columns='Play', values='Occurrences').reset_index()\n",
    "\n",
    "if laplace == True:\n",
    "    for name, df in features_dfs.items():\n",
    "        df.fillna({'Yes': 1/play_yes}, inplace=True)\n",
    "        df.fillna({'No': 1/play_no}, inplace=True)"
   ]
  },
  {
   "cell_type": "code",
   "execution_count": 175,
   "metadata": {},
   "outputs": [
    {
     "name": "stdout",
     "output_type": "stream",
     "text": [
      "Temperature\n",
      "Play Temperature   No       Yes\n",
      "0           High  0.4  0.222222\n",
      "1            Low  0.4  0.444444\n",
      "2         Medium  0.2  0.333333 \n",
      "\n",
      "Humidity\n",
      "Play Humidity   No       Yes\n",
      "0        High  0.4  0.222222\n",
      "1         Low  0.2  0.444444\n",
      "2      Medium  0.4  0.333333 \n",
      "\n",
      "Outlook\n",
      "Play   Outlook   No       Yes\n",
      "0     Overcast  0.2  0.444444\n",
      "1         Rain  0.4  0.333333\n",
      "2        Sunny  0.6  0.222222 \n",
      "\n",
      "Wind\n",
      "Play   Wind   No       Yes\n",
      "0     False  0.4  0.666667\n",
      "1      True  0.6  0.333333 \n",
      "\n"
     ]
    }
   ],
   "source": [
    "# All the bayes theorems probabilities\n",
    "for name, df in features_dfs.items():\n",
    "    print(name)\n",
    "    print(df, \"\\n\")"
   ]
  },
  {
   "cell_type": "code",
   "execution_count": 176,
   "metadata": {},
   "outputs": [],
   "source": [
    "record = {\n",
    "    'Temperature': 'High',\n",
    "    'Humidity': 'Low',\n",
    "    'Outlook': 'Overcast',\n",
    "    'Wind': False\n",
    "}"
   ]
  },
  {
   "cell_type": "code",
   "execution_count": 180,
   "metadata": {},
   "outputs": [
    {
     "name": "stdout",
     "output_type": "stream",
     "text": [
      "Play\n"
     ]
    },
    {
     "data": {
      "text/plain": [
       "(np.float64(0.8916629514043691), np.float64(0.1083370485956309))"
      ]
     },
     "execution_count": 180,
     "metadata": {},
     "output_type": "execute_result"
    }
   ],
   "source": [
    "yes = play_yes / (play_yes + play_no)\n",
    "no = play_no / (play_yes + play_no)\n",
    "\n",
    "for name, feature in features_dfs.items():\n",
    "    yes *= feature[feature[name] == record[name]]['Yes'].iloc[0]\n",
    "    no *= feature[feature[name] == record[name]]['No'].iloc[0]\n",
    "\n",
    "# Now calculate the probability of playing and not playing via normalization\n",
    "p_yes = yes / (yes + no)\n",
    "p_no = no / (yes + no)\n",
    "\n",
    "if p_yes >= 0.5:\n",
    "    print('Play')\n",
    "else:\n",
    "    print(\"Don't play\")\n",
    "p_yes, p_no"
   ]
  },
  {
   "cell_type": "markdown",
   "metadata": {},
   "source": [
    "For Numerical Attributes, numbers should be normalized using the normal distribution"
   ]
  },
  {
   "cell_type": "markdown",
   "metadata": {},
   "source": [
    "## Sci-Kit Learn"
   ]
  },
  {
   "cell_type": "markdown",
   "metadata": {},
   "source": [
    "The Simple way to use categorical variables in GuassianNB, using pd.get_dummies\n",
    "<br>You need to drop the rows, and then rejoin them\n",
    "<br>Either using np.concat or pd.concat the dataframes"
   ]
  },
  {
   "cell_type": "code",
   "execution_count": 331,
   "metadata": {},
   "outputs": [
    {
     "name": "stdout",
     "output_type": "stream",
     "text": [
      "Classification report\n",
      "              precision    recall  f1-score   support\n",
      "\n",
      "           0       0.33      1.00      0.50         1\n",
      "           1       1.00      0.60      0.75         5\n",
      "\n",
      "    accuracy                           0.67         6\n",
      "   macro avg       0.67      0.80      0.62         6\n",
      "weighted avg       0.89      0.67      0.71         6\n",
      "\n"
     ]
    }
   ],
   "source": [
    "# Gaussian Naive Bayes\n",
    "from sklearn.model_selection import train_test_split\n",
    "from sklearn.naive_bayes import GaussianNB\n",
    "\n",
    "golf_numerical = pd.read_csv('../Class_Data/golf.csv')\n",
    "\n",
    "# Nominal to Binominal (yes = 1 no = 0)\n",
    "golf_numerical['Play'] = golf_numerical['Play'].map(\n",
    "    {'yes': 1, 'no': 0}\n",
    ")\n",
    "\n",
    "# Create dummy variables\n",
    "golf_dummies = pd.get_dummies(golf_numerical[['Outlook']])\n",
    "\n",
    "golf_concat = pd.concat([golf_numerical, golf_dummies], axis=1)\n",
    "golf_concat.drop(['Outlook'], axis=1, inplace=True)\n",
    "\n",
    "X = golf_concat.drop('Play', axis=1).values\n",
    "y = golf_concat['Play'].values\n",
    "\n",
    "X_train, X_test, y_train, y_test = train_test_split(X, y, test_size=0.4)\n",
    "\n",
    "gnb = GaussianNB()\n",
    "\n",
    "gnb.fit(X_train, y_train)\n",
    "\n",
    "y_pred = gnb.predict(X_test)\n",
    "\n",
    "from sklearn.metrics import classification_report\n",
    "print(\"Classification report\")\n",
    "print(classification_report(y_test, y_pred))"
   ]
  },
  {
   "cell_type": "code",
   "execution_count": 301,
   "metadata": {},
   "outputs": [
    {
     "data": {
      "text/plain": [
       "0.6"
      ]
     },
     "execution_count": 301,
     "metadata": {},
     "output_type": "execute_result"
    }
   ],
   "source": [
    "gnb.score(X_test, y_test)"
   ]
  },
  {
   "cell_type": "markdown",
   "metadata": {},
   "source": [
    "The next way to do this is by using a pipeline and an encoder, this way, when you train your encoder, you use the same data split"
   ]
  },
  {
   "cell_type": "markdown",
   "metadata": {},
   "source": [
    "The Pipeline allows for multiple processes to take place in call of the fit function, this prevents data leakage from the parametrization and the fitting of the model"
   ]
  },
  {
   "cell_type": "markdown",
   "metadata": {},
   "source": [
    "Column Transformer allows us to perform seperate transformations inside a pipeline, for this naive bayes model, we will be normalizing the numerical data, and using one hot encoder on the categorical data"
   ]
  },
  {
   "cell_type": "code",
   "execution_count": null,
   "metadata": {},
   "outputs": [
    {
     "name": "stdout",
     "output_type": "stream",
     "text": [
      "<class 'pandas.core.frame.DataFrame'>\n",
      "RangeIndex: 14 entries, 0 to 13\n",
      "Data columns (total 5 columns):\n",
      " #   Column       Non-Null Count  Dtype \n",
      "---  ------       --------------  ----- \n",
      " 0   Outlook      14 non-null     object\n",
      " 1   Temperature  14 non-null     int64 \n",
      " 2   Humidity     14 non-null     int64 \n",
      " 3   Windy        14 non-null     bool  \n",
      " 4   Play         14 non-null     int64 \n",
      "dtypes: bool(1), int64(3), object(1)\n",
      "memory usage: 594.0+ bytes\n"
     ]
    }
   ],
   "source": [
    "from sklearn.pipeline import Pipeline\n",
    "from sklearn.compose import ColumnTransformer\n",
    "from sklearn.preprocessing import StandardScaler, OneHotEncoder\n",
    "from sklearn.naive_bayes import GaussianNB\n",
    "from sklearn.model_selection import RandomizedSearchCV\n",
    "from scipy.stats import loguniform\n",
    "from sklearn.model_selection import train_test_split\n",
    "\n",
    "golf = pd.read_csv('../Class_Data/golf.csv')\n",
    "golf['Play'] = golf['Play'].map({'yes': 1, 'no': 0})\n",
    "\n",
    "golf.info()"
   ]
  },
  {
   "cell_type": "code",
   "execution_count": null,
   "metadata": {},
   "outputs": [],
   "source": [
    "numerical = ['Temperature', 'Humidity']\n",
    "categorical = ['Outlook']\n",
    "\n",
    "preprocessor = \n",
    "\n",
    "\n",
    "pipe = Pipeline([\n",
    "    ('encoder', OneHotEncoder()),\n",
    "    ('guassiannb', GaussianNB())\n",
    "]\n",
    ")"
   ]
  }
 ],
 "metadata": {
  "kernelspec": {
   "display_name": "gus",
   "language": "python",
   "name": "python3"
  },
  "language_info": {
   "codemirror_mode": {
    "name": "ipython",
    "version": 3
   },
   "file_extension": ".py",
   "mimetype": "text/x-python",
   "name": "python",
   "nbconvert_exporter": "python",
   "pygments_lexer": "ipython3",
   "version": "3.12.8"
  }
 },
 "nbformat": 4,
 "nbformat_minor": 2
}
