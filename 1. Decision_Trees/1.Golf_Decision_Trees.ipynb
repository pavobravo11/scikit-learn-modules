{
 "cells": [
  {
   "cell_type": "code",
   "execution_count": 3,
   "metadata": {},
   "outputs": [],
   "source": [
    "import pandas as pd"
   ]
  },
  {
   "cell_type": "code",
   "execution_count": 4,
   "metadata": {},
   "outputs": [],
   "source": [
    "golf = pd.read_csv('Class_data/golf.csv')"
   ]
  },
  {
   "cell_type": "code",
   "execution_count": 22,
   "metadata": {},
   "outputs": [
    {
     "data": {
      "text/plain": [
       "array(['Sunny', 'Overcast', 'Rain'], dtype=object)"
      ]
     },
     "execution_count": 22,
     "metadata": {},
     "output_type": "execute_result"
    }
   ],
   "source": [
    "golf['Outlook'].unique()"
   ]
  },
  {
   "cell_type": "markdown",
   "metadata": {},
   "source": [
    "## Information Gain"
   ]
  },
  {
   "cell_type": "code",
   "execution_count": 6,
   "metadata": {},
   "outputs": [],
   "source": [
    "import numpy as np"
   ]
  },
  {
   "cell_type": "code",
   "execution_count": 21,
   "metadata": {},
   "outputs": [
    {
     "data": {
      "text/plain": [
       "np.float64(0.9402859586706311)"
      ]
     },
     "execution_count": 21,
     "metadata": {},
     "output_type": "execute_result"
    }
   ],
   "source": [
    "# If there was no partititoning, based on any attribute\n",
    "yes_count = golf[golf['Play'] == 'yes'].shape[0]\n",
    "no_count = golf[golf['Play'] == 'no'].shape[0]\n",
    "count = golf.shape[0]\n",
    "\n",
    "entropy_no_partitions = \\\n",
    "    - (yes_count/count)*np.log2(yes_count/count) \\\n",
    "    - (no_count/count)*np.log2(no_count/count)\n",
    "\n",
    "entropy_no_partitions"
   ]
  },
  {
   "cell_type": "code",
   "execution_count": null,
   "metadata": {},
   "outputs": [],
   "source": [
    "# How much do we information gain from including outlook at the root node\n",
    "sunny_yes = golf.query(\"Outlook == 'Sunny' & Play == 'yes'\").shape[0]\n",
    "sunny_no = golf.query(\"Outlook == 'Sunny' & Play == 'no'\").shape[0]\n",
    "\n",
    "overcast_yes = golf.query(\"Outlook == 'Overcast' & Play == 'yes'\").shape[0]\n",
    "overcast_no = golf.query(\"Outlook == 'Overcast' & Play == 'no'\").shape[0]\n",
    "\n",
    "rain_yes = golf.query(\"Outlook == 'Rain' & Play == 'yes'\").shape[0]\n",
    "rain_no = golf.query(\"Outlook == 'Rain' & Play == 'no'\").shape[0]"
   ]
  },
  {
   "cell_type": "code",
   "execution_count": 38,
   "metadata": {},
   "outputs": [],
   "source": [
    "def calculate_entropy(yes_labels, no_labels):\n",
    "    if yes_labels == 0 or no_labels == 0:\n",
    "        return np.float64(0)\n",
    "    total = yes_labels + no_labels\n",
    "    return -(yes_labels/total)*np.log2(yes_labels/total)\\\n",
    "        -(no_labels/total)*np.log2(no_labels/total)"
   ]
  },
  {
   "cell_type": "code",
   "execution_count": 39,
   "metadata": {},
   "outputs": [],
   "source": [
    "sunny_entrop = calculate_entropy(sunny_yes, sunny_no)\n",
    "overcast_entrop = calculate_entropy(overcast_yes, overcast_no)\n",
    "rain_entrop = calculate_entropy(rain_yes, rain_no)"
   ]
  },
  {
   "cell_type": "code",
   "execution_count": 35,
   "metadata": {},
   "outputs": [
    {
     "data": {
      "text/plain": [
       "np.float64(0.9709505944546686)"
      ]
     },
     "execution_count": 35,
     "metadata": {},
     "output_type": "execute_result"
    }
   ],
   "source": [
    "sunny_entrop"
   ]
  },
  {
   "cell_type": "code",
   "execution_count": 40,
   "metadata": {},
   "outputs": [
    {
     "data": {
      "text/plain": [
       "np.float64(0.0)"
      ]
     },
     "execution_count": 40,
     "metadata": {},
     "output_type": "execute_result"
    }
   ],
   "source": [
    "overcast_entrop"
   ]
  },
  {
   "cell_type": "code",
   "execution_count": 37,
   "metadata": {},
   "outputs": [
    {
     "data": {
      "text/plain": [
       "np.float64(0.9709505944546686)"
      ]
     },
     "execution_count": 37,
     "metadata": {},
     "output_type": "execute_result"
    }
   ],
   "source": [
    "rain_entrop"
   ]
  },
  {
   "cell_type": "markdown",
   "metadata": {},
   "source": [
    "Information Gain from Outlook"
   ]
  },
  {
   "cell_type": "code",
   "execution_count": 45,
   "metadata": {},
   "outputs": [
    {
     "data": {
      "text/plain": [
       "np.float64(0.24674981977443933)"
      ]
     },
     "execution_count": 45,
     "metadata": {},
     "output_type": "execute_result"
    }
   ],
   "source": [
    "# Calculate total entropy based on the Outlook categorical value\n",
    "entropy_outlook = \\\n",
    "    (sunny_yes+sunny_no)/count * sunny_entrop +\\\n",
    "    (overcast_yes+overcast_no)/count * overcast_entrop +\\\n",
    "    (rain_yes+rain_no)/count * rain_entrop\n",
    "\n",
    "information_gain_outlook = entropy_no_partitions - entropy_outlook\n",
    "information_gain_outlook"
   ]
  },
  {
   "cell_type": "markdown",
   "metadata": {},
   "source": [
    "**Split Info**: Used to adjust for bias of Information Gain towards splits with distinct values.<br>\n",
    "It is calculated with:\n",
    "$$\n",
    "\\text{SplitInfo}(S, A) = - \\sum_{i=1}^{k} \\frac{|S_i|}{|S|} \\log_2 \\left(\\frac{|S_i|}{|S|}\\right)\n",
    "$$"
   ]
  },
  {
   "cell_type": "code",
   "execution_count": 46,
   "metadata": {},
   "outputs": [
    {
     "data": {
      "text/plain": [
       "np.float64(1.5774062828523454)"
      ]
     },
     "execution_count": 46,
     "metadata": {},
     "output_type": "execute_result"
    }
   ],
   "source": [
    "split_info = \\\n",
    "    -(sunny_yes+sunny_no)/count * np.log2((sunny_yes+sunny_no)/count) +\\\n",
    "    -(overcast_yes+overcast_no)/count * np.log2((overcast_yes+overcast_no)/count) +\\\n",
    "    -(rain_yes+rain_no)/count * np.log2((rain_yes+rain_no)/count)\n",
    "\n",
    "split_info"
   ]
  },
  {
   "cell_type": "markdown",
   "metadata": {},
   "source": [
    "## Gain Ratio\n",
    "$$ = \\frac{\\text{Information Gain}}{\\text{Split Info}} $$"
   ]
  },
  {
   "cell_type": "code",
   "execution_count": 48,
   "metadata": {},
   "outputs": [
    {
     "data": {
      "text/plain": [
       "np.float64(0.15642756242117528)"
      ]
     },
     "execution_count": 48,
     "metadata": {},
     "output_type": "execute_result"
    }
   ],
   "source": [
    "gain_ratio_outlook = information_gain_outlook / split_info\n",
    "gain_ratio_outlook"
   ]
  },
  {
   "cell_type": "markdown",
   "metadata": {},
   "source": [
    "A low gain ratio shows us that the attribute does not do a good job at splitting the data into even subsets"
   ]
  },
  {
   "cell_type": "markdown",
   "metadata": {},
   "source": [
    "## Gini Index: Measure of Impurity for Split"
   ]
  },
  {
   "cell_type": "code",
   "execution_count": 92,
   "metadata": {},
   "outputs": [],
   "source": [
    "def calculate_gini(\n",
    "        data: pd.DataFrame, \n",
    "        categories: list[str], \n",
    "        attribute: str, \n",
    "        label_name:str, \n",
    "        yes_label: str, \n",
    "        no_label:str\n",
    "    ) -> np.float64:\n",
    "\n",
    "    gini = 0\n",
    "    total_count = data.shape[0]\n",
    "\n",
    "    for category in categories:\n",
    "        cat_data = data[data[attribute] == category]\n",
    "        cat_count = len(cat_data)\n",
    "\n",
    "        if cat_count == 0:\n",
    "            continue\n",
    "\n",
    "        yes_count = (cat_data[cat_data[label_name] == yes_label]).shape[0]\n",
    "        no_count = (cat_data[cat_data[label_name] == no_label]).shape[0]\n",
    "\n",
    "        gini += (1 - (yes_count/cat_count)**2 - (no_count/cat_count)**2) * (cat_count/total_count)\n",
    "        \n",
    "    return gini"
   ]
  },
  {
   "cell_type": "code",
   "execution_count": 93,
   "metadata": {},
   "outputs": [
    {
     "name": "stdout",
     "output_type": "stream",
     "text": [
      "0.34285714285714286\n"
     ]
    }
   ],
   "source": [
    "outlook_cats = list(golf['Outlook'].unique())\n",
    "outlook_gini = calculate_gini(\n",
    "    data=golf, \n",
    "    categories=outlook_cats,\n",
    "    attribute=\"Outlook\", \n",
    "    label_name=\"Play\", \n",
    "    yes_label=\"yes\", \n",
    "    no_label=\"no\")\n",
    "\n",
    "print(outlook_gini)"
   ]
  },
  {
   "cell_type": "code",
   "execution_count": 94,
   "metadata": {},
   "outputs": [
    {
     "data": {
      "text/plain": [
       "['Temperature', 'Humidity', 'Outlook', 'Wind']"
      ]
     },
     "metadata": {},
     "output_type": "display_data"
    },
    {
     "data": {
      "text/plain": [
       "['No', 'Yes']"
      ]
     },
     "metadata": {},
     "output_type": "display_data"
    }
   ],
   "source": [
    "# We can do it for the other variables, but we'll use the data that's been placed into buckets\n",
    "golf_categories = pd.read_excel('Class_Data/golf_categories.xlsx')\n",
    "\n",
    "features = list(golf_categories.columns)\n",
    "features.remove('Play')\n",
    "\n",
    "labels = list(golf_categories['Play'].unique())\n",
    "\n",
    "display(features)\n",
    "display(labels)"
   ]
  },
  {
   "cell_type": "code",
   "execution_count": 97,
   "metadata": {},
   "outputs": [
    {
     "name": "stdout",
     "output_type": "stream",
     "text": [
      "Temperature: 0.44047619047619047\n",
      "Humidity: 0.4285714285714285\n",
      "Outlook: 0.34285714285714286\n",
      "Wind: 0.42857142857142855\n"
     ]
    }
   ],
   "source": [
    "gini_indexes = dict()\n",
    "for feature in features:\n",
    "    gini = 0\n",
    "    categories = np.array(golf_categories[f'{feature}'].unique())\n",
    "    gini_indexes[feature] = calculate_gini(\n",
    "        data=golf_categories,\n",
    "        categories=categories,\n",
    "        attribute=feature,\n",
    "        label_name='Play',\n",
    "        yes_label='Yes',\n",
    "        no_label='No'\n",
    "    )\n",
    "\n",
    "for feature, gini_index in gini_indexes.items():\n",
    "    print(f\"{feature}: {gini_index}\")"
   ]
  },
  {
   "cell_type": "markdown",
   "metadata": {},
   "source": [
    "Our tree will select the lowest gini index for which variable it will decide to split off at the rootnode.<br><br>\n",
    "In this case, it will use outlook for this first split"
   ]
  }
 ],
 "metadata": {
  "kernelspec": {
   "display_name": "gus",
   "language": "python",
   "name": "python3"
  },
  "language_info": {
   "codemirror_mode": {
    "name": "ipython",
    "version": 3
   },
   "file_extension": ".py",
   "mimetype": "text/x-python",
   "name": "python",
   "nbconvert_exporter": "python",
   "pygments_lexer": "ipython3",
   "version": "3.12.8"
  }
 },
 "nbformat": 4,
 "nbformat_minor": 2
}
