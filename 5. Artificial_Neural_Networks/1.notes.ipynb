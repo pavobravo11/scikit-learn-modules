{
 "cells": [
  {
   "cell_type": "markdown",
   "metadata": {},
   "source": [
    "## Neural Network Models (Supervised)\n",
    "Known as **Multi-Layer Perceptron (MLP):** The common method for neural networks to learn a function from a training dataset.\n",
    "\n",
    "What makes neural networks special is that inbetween the input and output layers there are hiden layers.\n",
    "\n",
    "The leftmost layer is known as the input layer, that consists of *neurons*, representing the input features of the dataset. Into the next hidden layer, each neuron is a weighted sum of all the previous neurons followed by a non-linear activation function g(). Common options for $ g $ are: tanh (hyperbolic tan), logistic $ (1/e^{-z}) $ where $ z = $ the weighted average of all the previous hidden layers, plus a bias $ \\beta $.\n",
    "\n",
    "The Scikit learn module contains public attributes such as coefs_ and intercepts_. \n",
    "- coefs_ is a list of weight matrices, representing the weight matrix at index $i$, for the weights between the $i^{th}$ and the $i^{th} + 1$ layer.\n",
    "- intercepts_ is a list of bias vectors, where the vector at index $ i $ represnets the bias values added to layer $ i + 1 $"
   ]
  },
  {
   "cell_type": "markdown",
   "metadata": {},
   "source": [
    "## Scikit Learn\n",
    "### Classification\n",
    "MPLClassifier implements a multi-layer perceptron algorithm that trains using *backpropagation*"
   ]
  },
  {
   "cell_type": "code",
   "execution_count": 1,
   "metadata": {},
   "outputs": [],
   "source": [
    "import pandas as pd"
   ]
  },
  {
   "cell_type": "code",
   "execution_count": 2,
   "metadata": {},
   "outputs": [],
   "source": [
    "water_quality = pd.read_csv('../Class_Data/water quality.csv')"
   ]
  },
  {
   "cell_type": "code",
   "execution_count": 3,
   "metadata": {},
   "outputs": [
    {
     "data": {
      "text/html": [
       "<div>\n",
       "<style scoped>\n",
       "    .dataframe tbody tr th:only-of-type {\n",
       "        vertical-align: middle;\n",
       "    }\n",
       "\n",
       "    .dataframe tbody tr th {\n",
       "        vertical-align: top;\n",
       "    }\n",
       "\n",
       "    .dataframe thead th {\n",
       "        text-align: right;\n",
       "    }\n",
       "</style>\n",
       "<table border=\"1\" class=\"dataframe\">\n",
       "  <thead>\n",
       "    <tr style=\"text-align: right;\">\n",
       "      <th></th>\n",
       "      <th>aluminium</th>\n",
       "      <th>ammonia</th>\n",
       "      <th>arsenic</th>\n",
       "      <th>barium</th>\n",
       "      <th>cadmium</th>\n",
       "      <th>chloramine</th>\n",
       "      <th>chromium</th>\n",
       "      <th>copper</th>\n",
       "      <th>flouride</th>\n",
       "      <th>bacteria</th>\n",
       "      <th>...</th>\n",
       "      <th>lead</th>\n",
       "      <th>nitrates</th>\n",
       "      <th>nitrites</th>\n",
       "      <th>mercury</th>\n",
       "      <th>perchlorate</th>\n",
       "      <th>radium</th>\n",
       "      <th>selenium</th>\n",
       "      <th>silver</th>\n",
       "      <th>uranium</th>\n",
       "      <th>is_safe</th>\n",
       "    </tr>\n",
       "  </thead>\n",
       "  <tbody>\n",
       "    <tr>\n",
       "      <th>0</th>\n",
       "      <td>0.00</td>\n",
       "      <td>9.80</td>\n",
       "      <td>0.90</td>\n",
       "      <td>2.08</td>\n",
       "      <td>0.040</td>\n",
       "      <td>5.92</td>\n",
       "      <td>0.57</td>\n",
       "      <td>0.03</td>\n",
       "      <td>0.95</td>\n",
       "      <td>0.33</td>\n",
       "      <td>...</td>\n",
       "      <td>0.072</td>\n",
       "      <td>3.55</td>\n",
       "      <td>2.08</td>\n",
       "      <td>0.002</td>\n",
       "      <td>27.82</td>\n",
       "      <td>4.53</td>\n",
       "      <td>0.02</td>\n",
       "      <td>0.11</td>\n",
       "      <td>0.02</td>\n",
       "      <td>No</td>\n",
       "    </tr>\n",
       "    <tr>\n",
       "      <th>1</th>\n",
       "      <td>0.05</td>\n",
       "      <td>18.85</td>\n",
       "      <td>0.04</td>\n",
       "      <td>0.73</td>\n",
       "      <td>0.040</td>\n",
       "      <td>0.06</td>\n",
       "      <td>0.00</td>\n",
       "      <td>0.08</td>\n",
       "      <td>0.13</td>\n",
       "      <td>0.00</td>\n",
       "      <td>...</td>\n",
       "      <td>0.132</td>\n",
       "      <td>9.40</td>\n",
       "      <td>0.40</td>\n",
       "      <td>0.006</td>\n",
       "      <td>0.21</td>\n",
       "      <td>4.66</td>\n",
       "      <td>0.00</td>\n",
       "      <td>0.02</td>\n",
       "      <td>0.06</td>\n",
       "      <td>No</td>\n",
       "    </tr>\n",
       "    <tr>\n",
       "      <th>2</th>\n",
       "      <td>4.49</td>\n",
       "      <td>3.08</td>\n",
       "      <td>0.01</td>\n",
       "      <td>3.28</td>\n",
       "      <td>0.002</td>\n",
       "      <td>7.43</td>\n",
       "      <td>0.29</td>\n",
       "      <td>1.67</td>\n",
       "      <td>0.47</td>\n",
       "      <td>0.54</td>\n",
       "      <td>...</td>\n",
       "      <td>0.141</td>\n",
       "      <td>4.94</td>\n",
       "      <td>1.64</td>\n",
       "      <td>0.006</td>\n",
       "      <td>45.28</td>\n",
       "      <td>0.80</td>\n",
       "      <td>0.04</td>\n",
       "      <td>0.40</td>\n",
       "      <td>0.03</td>\n",
       "      <td>Yes</td>\n",
       "    </tr>\n",
       "    <tr>\n",
       "      <th>3</th>\n",
       "      <td>3.61</td>\n",
       "      <td>21.65</td>\n",
       "      <td>0.24</td>\n",
       "      <td>1.32</td>\n",
       "      <td>0.050</td>\n",
       "      <td>4.80</td>\n",
       "      <td>0.08</td>\n",
       "      <td>1.65</td>\n",
       "      <td>0.03</td>\n",
       "      <td>0.17</td>\n",
       "      <td>...</td>\n",
       "      <td>0.067</td>\n",
       "      <td>6.07</td>\n",
       "      <td>1.69</td>\n",
       "      <td>0.001</td>\n",
       "      <td>24.15</td>\n",
       "      <td>2.73</td>\n",
       "      <td>0.03</td>\n",
       "      <td>0.19</td>\n",
       "      <td>0.00</td>\n",
       "      <td>No</td>\n",
       "    </tr>\n",
       "    <tr>\n",
       "      <th>4</th>\n",
       "      <td>0.01</td>\n",
       "      <td>16.13</td>\n",
       "      <td>0.05</td>\n",
       "      <td>0.57</td>\n",
       "      <td>0.070</td>\n",
       "      <td>0.09</td>\n",
       "      <td>0.07</td>\n",
       "      <td>1.14</td>\n",
       "      <td>1.14</td>\n",
       "      <td>0.00</td>\n",
       "      <td>...</td>\n",
       "      <td>0.045</td>\n",
       "      <td>9.14</td>\n",
       "      <td>0.87</td>\n",
       "      <td>0.010</td>\n",
       "      <td>0.14</td>\n",
       "      <td>2.30</td>\n",
       "      <td>0.02</td>\n",
       "      <td>0.05</td>\n",
       "      <td>0.04</td>\n",
       "      <td>Yes</td>\n",
       "    </tr>\n",
       "  </tbody>\n",
       "</table>\n",
       "<p>5 rows × 21 columns</p>\n",
       "</div>"
      ],
      "text/plain": [
       "   aluminium  ammonia  arsenic  barium  cadmium  chloramine  chromium  copper  \\\n",
       "0       0.00     9.80     0.90    2.08    0.040        5.92      0.57    0.03   \n",
       "1       0.05    18.85     0.04    0.73    0.040        0.06      0.00    0.08   \n",
       "2       4.49     3.08     0.01    3.28    0.002        7.43      0.29    1.67   \n",
       "3       3.61    21.65     0.24    1.32    0.050        4.80      0.08    1.65   \n",
       "4       0.01    16.13     0.05    0.57    0.070        0.09      0.07    1.14   \n",
       "\n",
       "   flouride  bacteria  ...   lead  nitrates  nitrites  mercury  perchlorate  \\\n",
       "0      0.95      0.33  ...  0.072      3.55      2.08    0.002        27.82   \n",
       "1      0.13      0.00  ...  0.132      9.40      0.40    0.006         0.21   \n",
       "2      0.47      0.54  ...  0.141      4.94      1.64    0.006        45.28   \n",
       "3      0.03      0.17  ...  0.067      6.07      1.69    0.001        24.15   \n",
       "4      1.14      0.00  ...  0.045      9.14      0.87    0.010         0.14   \n",
       "\n",
       "   radium  selenium  silver  uranium  is_safe  \n",
       "0    4.53      0.02    0.11     0.02       No  \n",
       "1    4.66      0.00    0.02     0.06       No  \n",
       "2    0.80      0.04    0.40     0.03      Yes  \n",
       "3    2.73      0.03    0.19     0.00       No  \n",
       "4    2.30      0.02    0.05     0.04      Yes  \n",
       "\n",
       "[5 rows x 21 columns]"
      ]
     },
     "execution_count": 3,
     "metadata": {},
     "output_type": "execute_result"
    }
   ],
   "source": [
    "water_quality.head()"
   ]
  },
  {
   "cell_type": "code",
   "execution_count": 87,
   "metadata": {},
   "outputs": [],
   "source": [
    "X = water_quality.drop('is_safe', axis=1)\n",
    "y = water_quality['is_safe'].map({'Yes': 1, 'No': 0})"
   ]
  },
  {
   "cell_type": "code",
   "execution_count": null,
   "metadata": {},
   "outputs": [],
   "source": [
    "from sklearn.neural_network import MLPClassifier\n",
    "\n",
    "# Be sure to review the different types of solves available\n",
    "clf = MLPClassifier(\n",
    "    hidden_layer_sizes=(5, 2),\n",
    "    activation='logistic',\n",
    "    # solver='lbfgs',\n",
    "    max_iter=20000\n",
    ")\n",
    "clf.fit(X, y)"
   ]
  },
  {
   "cell_type": "code",
   "execution_count": 15,
   "metadata": {},
   "outputs": [
    {
     "data": {
      "text/plain": [
       "[(20, 5), (5, 2), (2, 1)]"
      ]
     },
     "execution_count": 15,
     "metadata": {},
     "output_type": "execute_result"
    }
   ],
   "source": [
    "[coef.shape for coef in clf.coefs_]"
   ]
  },
  {
   "cell_type": "code",
   "execution_count": 89,
   "metadata": {},
   "outputs": [],
   "source": [
    "from sklearn.preprocessing import StandardScaler\n",
    "from sklearn.pipeline import Pipeline\n",
    "from sklearn.model_selection import train_test_split, GridSearchCV\n",
    "from sklearn.neural_network import MLPClassifier\n",
    "\n",
    "import numpy as np\n",
    "\n",
    "pipe = Pipeline([\n",
    "    ('scaler', StandardScaler()),\n",
    "    ('ann_classifier', MLPClassifier(\n",
    "        max_iter=2000,\n",
    "        activation='logistic'\n",
    "    ))\n",
    "])\n",
    "\n",
    "clf = GridSearchCV(\n",
    "    estimator=pipe,\n",
    "    param_grid={\n",
    "        'ann_classifier__hidden_layer_sizes': \n",
    "        [(i,) for i in range(29, 32)],\n",
    "        'ann_classifier__alpha': 10.0 ** -np.arange(1,7)\n",
    "    },\n",
    "    scoring='precision',\n",
    "    cv=5,\n",
    "    n_jobs=-1\n",
    ")\n",
    "\n",
    "X_train, X_test, y_train, y_test = train_test_split(\n",
    "    X, y, test_size=0.3\n",
    ")\n",
    "\n",
    "clf.fit(X_train, y_train)\n",
    "\n",
    "y_pred = clf.predict(X_test)"
   ]
  },
  {
   "cell_type": "code",
   "execution_count": 90,
   "metadata": {},
   "outputs": [
    {
     "name": "stdout",
     "output_type": "stream",
     "text": [
      "Best Validation Score: 0.8721265587082254\n",
      "Best Parameters: {'ann_classifier__alpha': np.float64(0.1), 'ann_classifier__hidden_layer_sizes': (29,)}\n"
     ]
    }
   ],
   "source": [
    "print(\"Best Validation Score:\", clf.best_score_)\n",
    "print(\"Best Parameters:\", clf.best_params_)"
   ]
  },
  {
   "cell_type": "code",
   "execution_count": 91,
   "metadata": {},
   "outputs": [],
   "source": [
    "import matplotlib.pyplot as plt\n",
    "\n",
    "from sklearn.metrics import (\n",
    "    accuracy_score,\n",
    "    precision_score,\n",
    "    recall_score,\n",
    "    confusion_matrix,\n",
    "    ConfusionMatrixDisplay,\n",
    "    PrecisionRecallDisplay,\n",
    "    RocCurveDisplay\n",
    ")"
   ]
  },
  {
   "cell_type": "code",
   "execution_count": 92,
   "metadata": {},
   "outputs": [
    {
     "name": "stdout",
     "output_type": "stream",
     "text": [
      "Accuracy Score: 0.9080604534005038\n",
      "Precision Score: 0.8754716981132076\n",
      "Recall Score: 0.8529411764705882\n"
     ]
    }
   ],
   "source": [
    "print(\"Accuracy Score:\", accuracy_score(y_test, y_pred))\n",
    "print(\"Precision Score:\", precision_score(y_test, y_pred))\n",
    "print(\"Recall Score:\", recall_score(y_test, y_pred))"
   ]
  },
  {
   "cell_type": "code",
   "execution_count": 93,
   "metadata": {},
   "outputs": [
    {
     "data": {
      "text/plain": [
       "<sklearn.metrics._plot.confusion_matrix.ConfusionMatrixDisplay at 0x21ea6757ce0>"
      ]
     },
     "execution_count": 93,
     "metadata": {},
     "output_type": "execute_result"
    },
    {
     "data": {
      "text/plain": [
       "<Figure size 500x500 with 0 Axes>"
      ]
     },
     "metadata": {},
     "output_type": "display_data"
    },
    {
     "data": {
      "image/png": "[encoded data removed]",
      "text/plain": [
       "<Figure size 640x480 with 2 Axes>"
      ]
     },
     "metadata": {},
     "output_type": "display_data"
    }
   ],
   "source": [
    "m = confusion_matrix(\n",
    "    y_test,\n",
    "    y_pred\n",
    ")\n",
    "\n",
    "plt.figure(figsize=(5, 5))\n",
    "disp = ConfusionMatrixDisplay(\n",
    "    confusion_matrix=m,\n",
    "    display_labels=clf.classes_\n",
    ")\n",
    "\n",
    "disp.plot()"
   ]
  },
  {
   "cell_type": "code",
   "execution_count": 94,
   "metadata": {},
   "outputs": [
    {
     "data": {
      "text/plain": [
       "Text(0.5, 1.0, '2.Precision-Recall Curve with (29,) hidden layers')"
      ]
     },
     "execution_count": 94,
     "metadata": {},
     "output_type": "execute_result"
    },
    {
     "data": {
      "image/png": "[encoded data removed]",
      "text/plain": [
       "<Figure size 640x480 with 1 Axes>"
      ]
     },
     "metadata": {},
     "output_type": "display_data"
    }
   ],
   "source": [
    "disp = PrecisionRecallDisplay.from_estimator(\n",
    "    estimator=clf,\n",
    "    X=X_test,\n",
    "    y=y_test,\n",
    "    plot_chance_level=True,\n",
    "    despine=True,\n",
    "    name=f'ANN'\n",
    ")\n",
    "disp.ax_.set_title(f\"2.Precision-Recall Curve with {clf.best_params_['ann_classifier__hidden_layer_sizes']} hidden layers\")"
   ]
  },
  {
   "cell_type": "code",
   "execution_count": 95,
   "metadata": {},
   "outputs": [
    {
     "data": {
      "text/plain": [
       "<Figure size 500x500 with 0 Axes>"
      ]
     },
     "metadata": {},
     "output_type": "display_data"
    },
    {
     "data": {
      "image/png": "[encoded data removed]",
      "text/plain": [
       "<Figure size 640x480 with 1 Axes>"
      ]
     },
     "metadata": {},
     "output_type": "display_data"
    }
   ],
   "source": [
    "plt.figure(figsize=(5, 5))\n",
    "disp = RocCurveDisplay.from_estimator(\n",
    "    estimator=clf,\n",
    "    X=X_test,\n",
    "    y=y_test,\n",
    "    plot_chance_level=True,\n",
    "    despine=True,\n",
    "    name=f'ANN'\n",
    ")"
   ]
  },
  {
   "cell_type": "markdown",
   "metadata": {},
   "source": [
    "Neural Network Performed marginally better than the SVM in areas of ROC AUC and f2 score. Even though it under performed in precision (the SVM will not give false positives). The Neural Network is a stronger model overall yield a better performance in accuracy and recall."
   ]
  },
  {
   "cell_type": "markdown",
   "metadata": {},
   "source": [
    "### Regression\n",
    "\n",
    "Regression works similarly using the classification operator, instead using **MLPRegressor**.\n",
    "Internally the difference is the final output layer does not get an activation function applied to it. Hence, it uses the square error as the loss function, and the output is a set of continuous values.\n",
    "\n",
    "Both of these operators support multi-output regression, meaning a sample can have more than one target."
   ]
  },
  {
   "cell_type": "code",
   "execution_count": 2,
   "metadata": {},
   "outputs": [],
   "source": [
    "import pandas as pd\n",
    "midcity = pd.read_csv('../Class_Data/midcity.csv')"
   ]
  },
  {
   "cell_type": "code",
   "execution_count": 49,
   "metadata": {},
   "outputs": [
    {
     "data": {
      "text/html": [
       "<div>\n",
       "<style scoped>\n",
       "    .dataframe tbody tr th:only-of-type {\n",
       "        vertical-align: middle;\n",
       "    }\n",
       "\n",
       "    .dataframe tbody tr th {\n",
       "        vertical-align: top;\n",
       "    }\n",
       "\n",
       "    .dataframe thead th {\n",
       "        text-align: right;\n",
       "    }\n",
       "</style>\n",
       "<table border=\"1\" class=\"dataframe\">\n",
       "  <thead>\n",
       "    <tr style=\"text-align: right;\">\n",
       "      <th></th>\n",
       "      <th>Home</th>\n",
       "      <th>Nbhd</th>\n",
       "      <th>Offers</th>\n",
       "      <th>SqFt</th>\n",
       "      <th>Brick</th>\n",
       "      <th>Bedrooms</th>\n",
       "      <th>Bathrooms</th>\n",
       "      <th>Price</th>\n",
       "    </tr>\n",
       "  </thead>\n",
       "  <tbody>\n",
       "    <tr>\n",
       "      <th>0</th>\n",
       "      <td>1</td>\n",
       "      <td>2</td>\n",
       "      <td>2</td>\n",
       "      <td>1790</td>\n",
       "      <td>No</td>\n",
       "      <td>2</td>\n",
       "      <td>2</td>\n",
       "      <td>114300</td>\n",
       "    </tr>\n",
       "    <tr>\n",
       "      <th>1</th>\n",
       "      <td>2</td>\n",
       "      <td>2</td>\n",
       "      <td>3</td>\n",
       "      <td>2030</td>\n",
       "      <td>No</td>\n",
       "      <td>4</td>\n",
       "      <td>2</td>\n",
       "      <td>114200</td>\n",
       "    </tr>\n",
       "    <tr>\n",
       "      <th>2</th>\n",
       "      <td>3</td>\n",
       "      <td>2</td>\n",
       "      <td>1</td>\n",
       "      <td>1740</td>\n",
       "      <td>No</td>\n",
       "      <td>3</td>\n",
       "      <td>2</td>\n",
       "      <td>114800</td>\n",
       "    </tr>\n",
       "    <tr>\n",
       "      <th>3</th>\n",
       "      <td>4</td>\n",
       "      <td>2</td>\n",
       "      <td>3</td>\n",
       "      <td>1980</td>\n",
       "      <td>No</td>\n",
       "      <td>3</td>\n",
       "      <td>2</td>\n",
       "      <td>94700</td>\n",
       "    </tr>\n",
       "    <tr>\n",
       "      <th>4</th>\n",
       "      <td>5</td>\n",
       "      <td>2</td>\n",
       "      <td>3</td>\n",
       "      <td>2130</td>\n",
       "      <td>No</td>\n",
       "      <td>3</td>\n",
       "      <td>3</td>\n",
       "      <td>119800</td>\n",
       "    </tr>\n",
       "  </tbody>\n",
       "</table>\n",
       "</div>"
      ],
      "text/plain": [
       "   Home  Nbhd  Offers  SqFt Brick  Bedrooms  Bathrooms   Price\n",
       "0     1     2       2  1790    No         2          2  114300\n",
       "1     2     2       3  2030    No         4          2  114200\n",
       "2     3     2       1  1740    No         3          2  114800\n",
       "3     4     2       3  1980    No         3          2   94700\n",
       "4     5     2       3  2130    No         3          3  119800"
      ]
     },
     "execution_count": 49,
     "metadata": {},
     "output_type": "execute_result"
    }
   ],
   "source": [
    "midcity.head()"
   ]
  },
  {
   "cell_type": "markdown",
   "metadata": {},
   "source": [
    "Notes: because we are doing regression, we do not want to use a sigmoid function as our activation function because the final output of each neuron will be between 0 and 1, making it a much worse predictor once the output layer is reached.\n",
    "\n",
    "**ReLu**, returns the input value if it's greater than 0, and 0 if it is negative. Since our model is dealing with prices, the only good activation function provided by scikit is the identity function.\n",
    "\n",
    "However, when using the linear activation function, we get a value error as some training fits return nan because the spread of the target is much too large, specially when X is being scaled.\n",
    "\n",
    "\"A target variable with a large spread of values, in turn, may result in large error gradient values causing weight values to change dramatically, making the learning process unstable.\n",
    "\n",
    "Scaling input and output variables is a critical step in using neural network models.\" ([Source](https://machinelearningmastery.com/how-to-improve-neural-network-stability-and-modeling-performance-with-data-scaling/))\n",
    "\n",
    "To do so, the output values must be preprocessed, as well as then post-processed so the results are intrepretable."
   ]
  },
  {
   "cell_type": "code",
   "execution_count": 131,
   "metadata": {},
   "outputs": [
    {
     "data": {
      "text/plain": [
       "count       128.000000\n",
       "mean     130427.343750\n",
       "std       26868.770371\n",
       "min       69100.000000\n",
       "25%      111325.000000\n",
       "50%      125950.000000\n",
       "75%      148250.000000\n",
       "max      211200.000000\n",
       "Name: Price, dtype: float64"
      ]
     },
     "execution_count": 131,
     "metadata": {},
     "output_type": "execute_result"
    },
    {
     "data": {
      "image/png": "[encoded data removed]",
      "text/plain": [
       "<Figure size 800x500 with 1 Axes>"
      ]
     },
     "metadata": {},
     "output_type": "display_data"
    }
   ],
   "source": [
    "import matplotlib.pyplot as plt\n",
    "\n",
    "plt.figure(figsize=(8, 5))\n",
    "plt.hist(\n",
    "    x=midcity['Price'],\n",
    "    bins=50,\n",
    "    edgecolor='black'\n",
    ")\n",
    "plt.plot()\n",
    "\n",
    "midcity['Price'].describe()"
   ]
  },
  {
   "cell_type": "code",
   "execution_count": 110,
   "metadata": {},
   "outputs": [],
   "source": [
    "import numpy as np\n",
    "\n",
    "from sklearn.neural_network import MLPRegressor\n",
    "from sklearn.pipeline import Pipeline\n",
    "from sklearn.compose import ColumnTransformer\n",
    "from sklearn.preprocessing import OneHotEncoder, StandardScaler, MinMaxScaler\n",
    "from sklearn.model_selection import GridSearchCV, train_test_split\n",
    "\n",
    "preprocessor = ColumnTransformer([\n",
    "    ('encoder', OneHotEncoder(drop='if_binary'), ['Nbhd', 'Brick']),\n",
    "    ('z-scaler', StandardScaler(), ['SqFt']),\n",
    "    ('min-max-scaler', MinMaxScaler(), ['Offers', 'Bedrooms', 'Bathrooms'])\n",
    "])\n",
    "\n",
    "pipe = Pipeline([\n",
    "    ('preprocessor', preprocessor),\n",
    "    ('ann_regressor', MLPRegressor(\n",
    "        activation='identity',\n",
    "        learning_rate='constant',\n",
    "        learning_rate_init=0.001,\n",
    "        random_state=1992,\n",
    "        max_iter=2000))\n",
    "])\n",
    "\n",
    "clf = GridSearchCV(\n",
    "    estimator=pipe,\n",
    "    param_grid={\n",
    "        'ann_regressor__hidden_layer_sizes': [(i,) for i in range(25, 36)],\n",
    "        'ann_regressor__solver': [\n",
    "            'lbfgs', \n",
    "            'sgd', \n",
    "            'adam'\n",
    "        ],\n",
    "        'ann_regressor__alpha': 10.0 ** -np.arange(2,10)\n",
    "    },\n",
    "    scoring='neg_root_mean_squared_error',\n",
    "    n_jobs=-1,\n",
    "    cv=5\n",
    ")\n",
    "\n",
    "X = midcity.drop(['Home', 'Price'], axis=1)\n",
    "y = midcity['Price']\n",
    "\n",
    "# Scaling the y\n",
    "# reshape converts to 2D array \n",
    "# -1 means guess the number of rows\n",
    "#  1 means one column \n",
    "# We are using a MinMax Scaler because it preservers relative differences (and does not yield negative values)\n",
    "# .ravel() then converts the fitted data back into a 1d array\n",
    "y_scaler = MinMaxScaler()\n",
    "y_scaled = y_scaler.fit_transform(y.values.reshape(-1, 1)).ravel()\n",
    "\n",
    "X_train, X_test, y_train, y_test = train_test_split(\n",
    "    X, \n",
    "    y_scaled, \n",
    "    test_size=0.3,\n",
    "    random_state=1992)\n",
    "\n",
    "clf.fit(X_train, y_train)\n",
    "\n",
    "y_pred_scaled = clf.predict(X_test)\n",
    "y_pred = y_scaler.inverse_transform(y_pred_scaled.reshape(-1, 1)).ravel()"
   ]
  },
  {
   "cell_type": "code",
   "execution_count": 111,
   "metadata": {},
   "outputs": [
    {
     "name": "stdout",
     "output_type": "stream",
     "text": [
      "Best Parameters: {'ann_regressor__alpha': np.float64(0.01), 'ann_regressor__hidden_layer_sizes': (32,), 'ann_regressor__solver': 'lbfgs'}\n",
      "Validation Score(RMSE): 80089.82566819663\n"
     ]
    }
   ],
   "source": [
    "print(\"Best Parameters:\", clf.best_params_)\n",
    "print(\"Validation Score(RMSE):\", y_scaler.inverse_transform(np.array(-clf.best_score_).reshape(-1, 1))[0][0])"
   ]
  },
  {
   "cell_type": "code",
   "execution_count": 132,
   "metadata": {},
   "outputs": [
    {
     "name": "stdout",
     "output_type": "stream",
     "text": [
      "R2 Score: 0.9041154218171326\n"
     ]
    },
    {
     "data": {
      "image/png": "[encoded data removed]",
      "text/plain": [
       "<Figure size 500x500 with 1 Axes>"
      ]
     },
     "metadata": {},
     "output_type": "display_data"
    }
   ],
   "source": [
    "import matplotlib.pyplot as plt\n",
    "from sklearn.metrics import r2_score\n",
    "\n",
    "plt.figure(figsize=(5, 5))\n",
    "plt.scatter(y_test, y_pred_scaled)\n",
    "plt.plot([y_test.max(), y_test.min()], [y_test.max(), y_test.min()], c='r')\n",
    "print(\"R2 Score:\", r2_score(y_test, y_pred_scaled))\n",
    "plt.show()"
   ]
  },
  {
   "cell_type": "code",
   "execution_count": 114,
   "metadata": {},
   "outputs": [
    {
     "data": {
      "image/png": "[encoded data removed]",
      "text/plain": [
       "<Figure size 500x500 with 1 Axes>"
      ]
     },
     "metadata": {},
     "output_type": "display_data"
    }
   ],
   "source": [
    "# Residual plot\n",
    "residuals = y_test - y_pred_scaled\n",
    "\n",
    "plt.figure(figsize=(5, 5))\n",
    "plt.scatter(y_test, residuals)\n",
    "plt.axhline(0, c='r')\n",
    "plt.xlabel(\"Actual Values\")\n",
    "plt.ylabel(\"Residuals\")\n",
    "plt.show()"
   ]
  },
  {
   "cell_type": "markdown",
   "metadata": {},
   "source": [
    "### Notes on Regularization\n",
    "Both versions of the Multi-Layered Perceptron accept a parameter called alpha. Alpha is your **L2 regularization** term. Increasing this parameter is a great way to combat a model that has high variance as it is made to punish **overfitting** by penalizing weights that have high magnitudes.\n",
    "\n",
    "The best way to find a suitable parameter $\\alpha$ is to use GridSearchCV in the range 10.0 ** -np.arrange(1,7), as you have used in your first example. This led to your strongest classifier in terms of ROC AUC."
   ]
  },
  {
   "cell_type": "markdown",
   "metadata": {},
   "source": [
    "### A note on the Algorithms used by back propagation\n",
    "*These will require their own sections or at the very least their own reading*\n",
    "Backpropagation happens with 3 algorithms:\n",
    "- Stochastic Gradient Descent (SGD)\n",
    "- Adam, or,\n",
    "- L-BFGS\n",
    "\n",
    "#### SGD\n",
    "- Updates parameters using the gradient of the loss function with respect to a parameter that needs adaptation. \n",
    "This weight $\\omega$ is updated by subtracting a term that is a product of a loss function term, and the learning rate n.\n",
    "\n",
    "#### Adam\n",
    "- Similar to SGD it is also a stochastic optimizer. However, Adam can automatically adjust the amount to update parameters based on estimates of lower-order moments.\n",
    "\n",
    "With both of the algorithms used above, training can be done online and in mini-batch form.\n",
    "\n",
    "#### L-BFGS\n",
    "- Approximates the Hessian matrix, this represents the second-order partial derivative of a function. It then approximates the inverse of the Hessian matrix to perform parameter updates. L-BFGS does **not** support online or mini-batch learning.\n",
    "\n",
    "### Time Complexity of Backpropagation\n",
    "Let there be:\n",
    "- $n$ training samples,\n",
    "- $m$ features,\n",
    "- $k$ hidden layers, each containing $h$ neurons(for simplicity), and,\n",
    "- $o$ output neurons,\n",
    "then the time complexity is\n",
    "$$\n",
    "O(i * n * (m * h + (k - 1) * h * h + h * o)),\n",
    "$$\n",
    "Where $i$ is the number of iterations (epochs in SGD and Adam).\n",
    "\n",
    "Evidently, backpropagation has a high time complexity, therefore, it is advisable to begin with the smallest number of hidden neurosn and hidden layers as possible\n",
    "\n",
    "### Tips\n",
    "- Always scale your data (much like KNN)\n",
    "- Use $\\alpha$ with GridSearchCV\n",
    "- It has been observed that L-BFGS converges much faster on small datasets\n",
    "    - Adam however is more robust and has good performance\n",
    "    - Lastly, SGD, can perform the best if the learning rate is correctly tuned\n",
    "- For SGD, if you wanted to manually go through each iteration, you can set warm_start=True, and max_iter=1, to then follow the classifier through each iteration."
   ]
  }
 ],
 "metadata": {
  "kernelspec": {
   "display_name": "gus",
   "language": "python",
   "name": "python3"
  },
  "language_info": {
   "codemirror_mode": {
    "name": "ipython",
    "version": 3
   },
   "file_extension": ".py",
   "mimetype": "text/x-python",
   "name": "python",
   "nbconvert_exporter": "python",
   "pygments_lexer": "ipython3",
   "version": "3.12.8"
  }
 },
 "nbformat": 4,
 "nbformat_minor": 2
}
